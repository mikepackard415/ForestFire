{
 "cells": [
  {
   "cell_type": "code",
   "execution_count": 1,
   "id": "cad3cc62",
   "metadata": {},
   "outputs": [],
   "source": [
    "import numpy as np\n",
    "from mesa import Model\n",
    "from mesa import Agent\n",
    "from mesa.space import SingleGrid\n",
    "from mesa.time import SimultaneousActivation\n",
    "from mesa.time import RandomActivation\n",
    "from mesa.datacollection import DataCollector\n",
    "import time\n",
    "import matplotlib.pyplot as plt"
   ]
  },
  {
   "cell_type": "code",
   "execution_count": null,
   "id": "d88570d8",
   "metadata": {},
   "outputs": [],
   "source": [
    "# Dealing with error\n",
    "!pip install nest_asyncio\n",
    "import nest_asyncio\n",
    "nest_asyncio.apply()"
   ]
  },
  {
   "cell_type": "markdown",
   "id": "57f9fd40",
   "metadata": {},
   "source": [
    "### Method 1: Agents are Trees, Simultaneous Activation"
   ]
  },
  {
   "cell_type": "code",
   "execution_count": 3,
   "id": "335f304b",
   "metadata": {},
   "outputs": [],
   "source": [
    "class Forest_Trees(Model):\n",
    "    \n",
    "    def __init__(self, width=50, height=50, density = 0.57):\n",
    "        \n",
    "        self.width = width\n",
    "        self.height = height\n",
    "        self.density = density\n",
    "        \n",
    "        self.grid = SingleGrid(width, height, torus=False)\n",
    "        self.schedule = SimultaneousActivation(self)\n",
    "        self.running = True\n",
    "        \n",
    "        for _, x, y in self.grid.coord_iter():\n",
    "            if np.random.uniform() < self.density:\n",
    "                tree = Tree((x, y), self)\n",
    "                self.grid.place_agent(tree, (x, y))\n",
    "                self.schedule.add(tree)\n",
    "        \n",
    "        self.statuses = {'Green':0, 'Burning':0, 'Embers':0}\n",
    "    \n",
    "    def step(self):\n",
    "        self.statuses = {'Green':0, 'Burning':0, 'Embers':0}\n",
    "        self.schedule.step()\n",
    "        \n",
    "        if self.statuses['Burning'] == 0:\n",
    "            self.running = False\n",
    "            \n",
    "class Tree(Agent):\n",
    "    \n",
    "    def __init__(self, pos, model):\n",
    "        super().__init__(pos, model)\n",
    "        self.status = \"Green\"\n",
    "        self.next = \"Green\"\n",
    "        \n",
    "        #print(\"Hi! I'm a tree at position ({}, {})\".format(self.pos[0], self.pos[1]))\n",
    "    \n",
    "    def step(self):\n",
    "        if self.model.schedule.time == 0:\n",
    "            self.neighbors = self.model.grid.iter_neighbors(self.pos, moore=False)\n",
    "\n",
    "        if self.pos[0] == 0:\n",
    "            self.next = \"Burning\"\n",
    "            \n",
    "        if self.status == \"Burning\":\n",
    "            for neighbor in self.neighbors:\n",
    "                if neighbor.status == \"Green\":\n",
    "                    neighbor.next = \"Burning\"\n",
    "            self.next = \"Embers\"\n",
    "            \n",
    "    def advance(self):\n",
    "        self.status = self.next\n",
    "        self.model.statuses[self.status] += 1"
   ]
  },
  {
   "cell_type": "code",
   "execution_count": 4,
   "id": "93edd5cd",
   "metadata": {},
   "outputs": [
    {
     "name": "stdout",
     "output_type": "stream",
     "text": [
      "Time to make this plot: 1.744246482849121\n"
     ]
    },
    {
     "data": {
      "image/png": "[encoded data removed]",
      "text/plain": [
       "<Figure size 432x288 with 1 Axes>"
      ]
     },
     "metadata": {
      "needs_background": "light"
     },
     "output_type": "display_data"
    }
   ],
   "source": [
    "t0 = time.time()\n",
    "pct_burnt_by_density = {}\n",
    "for i in range(50, 70):\n",
    "    ff = Forest_Trees(density= i / 100)\n",
    "    while ff.running:\n",
    "        ff.step()\n",
    "    \n",
    "    pct_burnt_by_density[i] = 100 * ff.statuses['Embers'] / sum(ff.statuses.values())\n",
    "\n",
    "plt.plot(pct_burnt_by_density.keys(), pct_burnt_by_density.values());\n",
    "print(\"Time to make this plot:\", time.time() - t0)"
   ]
  },
  {
   "cell_type": "markdown",
   "id": "2344db28",
   "metadata": {},
   "source": [
    "### Method 2: Agents are Flames, Random Activation"
   ]
  },
  {
   "cell_type": "code",
   "execution_count": 6,
   "id": "f527986f",
   "metadata": {},
   "outputs": [],
   "source": [
    "class Forest_Fire(Model):\n",
    "    \n",
    "    def __init__(self, height=125, width=125, density=0.57):\n",
    "        \n",
    "        self.height = height\n",
    "        self.width = width\n",
    "        self.density = density\n",
    "    \n",
    "        self.trees = np.random.choice([True, False], \n",
    "                                      size=(self.width, self.height), \n",
    "                                      p=[self.density, 1-self.density])\n",
    "        \n",
    "        self.tree_count = np.sum(self.trees)\n",
    "        \n",
    "        self.burning = 0\n",
    "        \n",
    "        self.grid = SingleGrid(width, height, torus=False)\n",
    "        self.schedule = RandomActivation(self)\n",
    "        self.running = True\n",
    "        \n",
    "        #print(\"Time 0\")\n",
    "        for _, x, y in self.grid.coord_iter():\n",
    "            if x == 0 and self.trees[x, y]:\n",
    "                self.ignite((x, y))\n",
    "        \n",
    "        self.pct_burnt = 100 * self.schedule.get_agent_count() / self.tree_count\n",
    "        \n",
    "        self.datacollector = DataCollector({\n",
    "            \"Percent_Burnt\": lambda m: m.pct_burnt\n",
    "        })\n",
    "        self.datacollector.collect(self)\n",
    "    \n",
    "    def ignite(self, pos):\n",
    "        fire = Fire(self)\n",
    "        self.grid.place_agent(fire, pos)\n",
    "        self.schedule.add(fire)\n",
    "    \n",
    "    def step(self):\n",
    "        self.burning = 0\n",
    "\n",
    "        self.schedule.step()\n",
    "        \n",
    "        self.pct_burnt = 100 * self.schedule.get_agent_count() / self.tree_count\n",
    "        self.datacollector.collect(self)\n",
    "        \n",
    "        if self.burning == 0:\n",
    "            self.running = False\n",
    "            #print(self.pct_burnt)\n",
    "\n",
    "                \n",
    "class Fire(Agent):\n",
    "    \n",
    "    def __init__(self, model):\n",
    "        super().__init__(self, model)\n",
    "        self.status = \"On Fire\"\n",
    "        \n",
    "    def step(self):\n",
    "        if self.status == \"On Fire\":\n",
    "            for x, y in self.model.grid.get_neighborhood(self.pos, moore=False, include_center=False):\n",
    "                if self.model.trees[x, y] and self.model.grid.is_cell_empty((x, y)):\n",
    "                    self.model.ignite((x, y))\n",
    "                    self.model.burning += 1\n",
    "                        \n",
    "            self.status = \"Embers\""
   ]
  },
  {
   "cell_type": "code",
   "execution_count": 7,
   "id": "317840f7",
   "metadata": {},
   "outputs": [
    {
     "name": "stdout",
     "output_type": "stream",
     "text": [
      "Time to make this plot: 0.9782354831695557\n"
     ]
    },
    {
     "data": {
      "image/png": "[encoded data removed]",
      "text/plain": [
       "<Figure size 432x288 with 1 Axes>"
      ]
     },
     "metadata": {
      "needs_background": "light"
     },
     "output_type": "display_data"
    }
   ],
   "source": [
    "t0 = time.time()\n",
    "pct_burnt_by_density = {}\n",
    "for i in range(50, 70):\n",
    "    ff = Forest_Fire(50, 50, i / 100)\n",
    "    while ff.running:\n",
    "        ff.step()\n",
    "    \n",
    "    pct_burnt_by_density[i] = ff.pct_burnt\n",
    "    \n",
    "plt.plot(pct_burnt_by_density.keys(), pct_burnt_by_density.values());\n",
    "print(\"Time to make this plot:\", time.time() - t0)"
   ]
  },
  {
   "cell_type": "code",
   "execution_count": 9,
   "id": "38f7c7e8",
   "metadata": {},
   "outputs": [
    {
     "data": {
      "image/png": "[encoded data removed]",
      "text/plain": [
       "<Figure size 432x288 with 1 Axes>"
      ]
     },
     "metadata": {
      "needs_background": "light"
     },
     "output_type": "display_data"
    }
   ],
   "source": [
    "# Smoother plot\n",
    "\n",
    "pct_burnt_by_density = {}\n",
    "for i in range(50, 70):\n",
    "    results = []\n",
    "    for j in range(10):\n",
    "        ff = Forest_Fire(50, 50, i / 100)\n",
    "        while ff.running:\n",
    "            ff.step()\n",
    "        results.append(ff.pct_burnt)\n",
    "    \n",
    "    pct_burnt_by_density[i] = results\n",
    "    \n",
    "plt.plot(pct_burnt_by_density.keys(), [sum(results)/len(results) for results in pct_burnt_by_density.values()]);"
   ]
  },
  {
   "cell_type": "markdown",
   "id": "eb16754c",
   "metadata": {},
   "source": [
    "### Visualization"
   ]
  },
  {
   "cell_type": "code",
   "execution_count": null,
   "id": "55a8a361",
   "metadata": {},
   "outputs": [],
   "source": [
    "import numpy as np\n",
    "import matplotlib.pyplot as plt\n",
    "import matplotlib.colors as colors\n",
    "import matplotlib.animation as animation\n",
    "\n",
    "from IPython.display import HTML"
   ]
  },
  {
   "cell_type": "code",
   "execution_count": null,
   "id": "ff40b370",
   "metadata": {},
   "outputs": [],
   "source": [
    "ani = animate(Forest())\n",
    "HTML(ani.to_jshtml())"
   ]
  },
  {
   "cell_type": "code",
   "execution_count": null,
   "id": "bd25f22d",
   "metadata": {},
   "outputs": [],
   "source": [
    "def animate(model):\n",
    "\n",
    "    cmap = colors.ListedColormap(['red', 'brown', 'green', 'black'])\n",
    "    formatter = plt.FuncFormatter(lambda val, loc: ['On Fire', 'Embers', 'Green', 'Empty'][loc])\n",
    "    \n",
    "    fig, ax = plt.subplots()\n",
    "    img = ax.imshow(render(Forest()), cmap=cmap)\n",
    "    fig.colorbar(img, ticks=[0,1,2,3], format=formatter, ax=ax)\n",
    "\n",
    "    ax.axis('off')\n",
    "\n",
    "    plt.close()\n",
    "\n",
    "    ani = animation.FuncAnimation(fig,\n",
    "                                  update,\n",
    "                                  fargs=(img, Forest(),),\n",
    "                                  frames=100,\n",
    "                                  interval=500,\n",
    "                                  save_count=500)\n",
    "    return ani"
   ]
  },
  {
   "cell_type": "code",
   "execution_count": null,
   "id": "37dc3ba6",
   "metadata": {},
   "outputs": [],
   "source": [
    "def update(frameNum, img, model):\n",
    "    model.step()\n",
    "    img.set_data(render(model))\n",
    "    return img"
   ]
  },
  {
   "cell_type": "code",
   "execution_count": null,
   "id": "0bdf617d",
   "metadata": {},
   "outputs": [],
   "source": [
    "def render(model):\n",
    "    agent_types = np.zeros((model.grid.width, model.grid.height))\n",
    "    for content, x, y in model.grid.coord_iter():\n",
    "        if content:\n",
    "            cell_content = [\"On Fire\", \"Embers\"].index(content.status)\n",
    "        elif model.trees[x, y]:\n",
    "            cell_content = 2\n",
    "        else:\n",
    "            cell_content = 3\n",
    "            \n",
    "        agent_types[x][y] = cell_content\n",
    "    \n",
    "    return agent_types"
   ]
  }
 ],
 "metadata": {
  "kernelspec": {
   "display_name": "Python 3",
   "language": "python",
   "name": "python3"
  },
  "language_info": {
   "codemirror_mode": {
    "name": "ipython",
    "version": 3
   },
   "file_extension": ".py",
   "mimetype": "text/x-python",
   "name": "python",
   "nbconvert_exporter": "python",
   "pygments_lexer": "ipython3",
   "version": "3.7.10"
  }
 },
 "nbformat": 4,
 "nbformat_minor": 5
}
